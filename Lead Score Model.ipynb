{
 "cells": [
  {
   "cell_type": "code",
   "execution_count": 1,
   "id": "abb1de54",
   "metadata": {},
   "outputs": [],
   "source": [
    "import pandas as pd\n",
    "import numpy as np\n",
    "import matplotlib.pyplot as plt"
   ]
  },
  {
   "cell_type": "code",
   "execution_count": 2,
   "id": "85baee37",
   "metadata": {
    "scrolled": true
   },
   "outputs": [
    {
     "data": {
      "text/html": [
       "<div>\n",
       "<style scoped>\n",
       "    .dataframe tbody tr th:only-of-type {\n",
       "        vertical-align: middle;\n",
       "    }\n",
       "\n",
       "    .dataframe tbody tr th {\n",
       "        vertical-align: top;\n",
       "    }\n",
       "\n",
       "    .dataframe thead th {\n",
       "        text-align: right;\n",
       "    }\n",
       "</style>\n",
       "<table border=\"1\" class=\"dataframe\">\n",
       "  <thead>\n",
       "    <tr style=\"text-align: right;\">\n",
       "      <th></th>\n",
       "      <th>Unnamed: 0</th>\n",
       "      <th>Agent_id</th>\n",
       "      <th>status</th>\n",
       "      <th>lost_reason</th>\n",
       "      <th>budget</th>\n",
       "      <th>lease</th>\n",
       "      <th>movein</th>\n",
       "      <th>source</th>\n",
       "      <th>source_city</th>\n",
       "      <th>source_country</th>\n",
       "      <th>utm_source</th>\n",
       "      <th>utm_medium</th>\n",
       "      <th>des_city</th>\n",
       "      <th>des_country</th>\n",
       "      <th>room_type</th>\n",
       "      <th>lead_id</th>\n",
       "    </tr>\n",
       "  </thead>\n",
       "  <tbody>\n",
       "    <tr>\n",
       "      <th>0</th>\n",
       "      <td>0</td>\n",
       "      <td>1deba9e96f404694373de9749ddd1ca8aa7bb823145a6f...</td>\n",
       "      <td>LOST</td>\n",
       "      <td>Not responding</td>\n",
       "      <td>NaN</td>\n",
       "      <td>NaN</td>\n",
       "      <td>NaN</td>\n",
       "      <td>9b2d5b4678781e53038e91ea5324530a03f27dc1d0e5f6...</td>\n",
       "      <td>9b2d5b4678781e53038e91ea5324530a03f27dc1d0e5f6...</td>\n",
       "      <td>9b2d5b4678781e53038e91ea5324530a03f27dc1d0e5f6...</td>\n",
       "      <td>3d59f7548e1af2151b64135003ce63c0a484c26b9b8b16...</td>\n",
       "      <td>268ad70eb5bc4737a2ae28162cbca30118cc94520e49ef...</td>\n",
       "      <td>ecc0e7dc084f141b29479058967d0bc07dee25d9690a98...</td>\n",
       "      <td>8d23a6e37e0a6431a8f1b43a91026dcff51170a89a6512...</td>\n",
       "      <td>NaN</td>\n",
       "      <td>cd5dc0d9393f3980d11d4ba6f88f8110c2b7a7f7796307...</td>\n",
       "    </tr>\n",
       "    <tr>\n",
       "      <th>1</th>\n",
       "      <td>1</td>\n",
       "      <td>299ae77a4ef350ae0dd37d6bba1c002d03444fb1edb236...</td>\n",
       "      <td>LOST</td>\n",
       "      <td>Low budget</td>\n",
       "      <td>NaN</td>\n",
       "      <td>NaN</td>\n",
       "      <td>NaN</td>\n",
       "      <td>9b2d5b4678781e53038e91ea5324530a03f27dc1d0e5f6...</td>\n",
       "      <td>9b2d5b4678781e53038e91ea5324530a03f27dc1d0e5f6...</td>\n",
       "      <td>9b2d5b4678781e53038e91ea5324530a03f27dc1d0e5f6...</td>\n",
       "      <td>3d59f7548e1af2151b64135003ce63c0a484c26b9b8b16...</td>\n",
       "      <td>268ad70eb5bc4737a2ae28162cbca30118cc94520e49ef...</td>\n",
       "      <td>5372372f3bf5896820cb2819300c3e681820d82c6efc54...</td>\n",
       "      <td>8d23a6e37e0a6431a8f1b43a91026dcff51170a89a6512...</td>\n",
       "      <td>NaN</td>\n",
       "      <td>b94693673a5f7178d1b114e4004ad52377d3244dd24a3d...</td>\n",
       "    </tr>\n",
       "    <tr>\n",
       "      <th>2</th>\n",
       "      <td>2</td>\n",
       "      <td>c213697430c006013012dd2aca82dd9732aa0a1a6bca13...</td>\n",
       "      <td>LOST</td>\n",
       "      <td>Not responding</td>\n",
       "      <td>£121 - £180 Per Week</td>\n",
       "      <td>Full Year Course Stay 40 - 44 weeks</td>\n",
       "      <td>31/08/22</td>\n",
       "      <td>7aae3e886e89fc1187a5c47d6cea1c22998ee610ade1f2...</td>\n",
       "      <td>9b8cc3c63cdf447e463c11544924bf027945cbd29675f7...</td>\n",
       "      <td>e09e10e67812e9d236ad900e5d46b4308fc62f5d69446a...</td>\n",
       "      <td>bbdefa2950f49882f295b1285d4fa9dec45fc4144bfb07...</td>\n",
       "      <td>09076eb7665d1fb9389c7c4517fee0b00e43092eb34821...</td>\n",
       "      <td>11ab03a1a8c367191355c152f39fe28cae5e426fce49ef...</td>\n",
       "      <td>8d23a6e37e0a6431a8f1b43a91026dcff51170a89a6512...</td>\n",
       "      <td>Ensuite</td>\n",
       "      <td>96ea4e2bf04496c044745938c0299c264c3f4ba079e572...</td>\n",
       "    </tr>\n",
       "    <tr>\n",
       "      <th>3</th>\n",
       "      <td>3</td>\n",
       "      <td>eac9815a500f908736d303e23aa227f0957177b0e6756b...</td>\n",
       "      <td>LOST</td>\n",
       "      <td>Low budget</td>\n",
       "      <td>0-0</td>\n",
       "      <td>0</td>\n",
       "      <td>NaN</td>\n",
       "      <td>ba2d0a29556ac20f86f45e4543c0825428cba33fd7a9ea...</td>\n",
       "      <td>a5f0d2d08eb0592087e3a3a2f9c1ba2c67cc30f2efd2bd...</td>\n",
       "      <td>e09e10e67812e9d236ad900e5d46b4308fc62f5d69446a...</td>\n",
       "      <td>bbdefa2950f49882f295b1285d4fa9dec45fc4144bfb07...</td>\n",
       "      <td>09076eb7665d1fb9389c7c4517fee0b00e43092eb34821...</td>\n",
       "      <td>19372fa44c57a01c37a5a8418779ca3d99b0b59731fb35...</td>\n",
       "      <td>8d23a6e37e0a6431a8f1b43a91026dcff51170a89a6512...</td>\n",
       "      <td>NaN</td>\n",
       "      <td>1d2b34d8add02a182a4129023766ca4585a8ddced0e5b3...</td>\n",
       "    </tr>\n",
       "    <tr>\n",
       "      <th>4</th>\n",
       "      <td>4</td>\n",
       "      <td>1deba9e96f404694373de9749ddd1ca8aa7bb823145a6f...</td>\n",
       "      <td>LOST</td>\n",
       "      <td>Junk lead</td>\n",
       "      <td>NaN</td>\n",
       "      <td>NaN</td>\n",
       "      <td>NaN</td>\n",
       "      <td>9b2d5b4678781e53038e91ea5324530a03f27dc1d0e5f6...</td>\n",
       "      <td>9b2d5b4678781e53038e91ea5324530a03f27dc1d0e5f6...</td>\n",
       "      <td>9b2d5b4678781e53038e91ea5324530a03f27dc1d0e5f6...</td>\n",
       "      <td>3d59f7548e1af2151b64135003ce63c0a484c26b9b8b16...</td>\n",
       "      <td>268ad70eb5bc4737a2ae28162cbca30118cc94520e49ef...</td>\n",
       "      <td>9b2d5b4678781e53038e91ea5324530a03f27dc1d0e5f6...</td>\n",
       "      <td>9b2d5b4678781e53038e91ea5324530a03f27dc1d0e5f6...</td>\n",
       "      <td>NaN</td>\n",
       "      <td>fc10fffd29cfbe93c55158fb47752a7501c211d253468c...</td>\n",
       "    </tr>\n",
       "    <tr>\n",
       "      <th>...</th>\n",
       "      <td>...</td>\n",
       "      <td>...</td>\n",
       "      <td>...</td>\n",
       "      <td>...</td>\n",
       "      <td>...</td>\n",
       "      <td>...</td>\n",
       "      <td>...</td>\n",
       "      <td>...</td>\n",
       "      <td>...</td>\n",
       "      <td>...</td>\n",
       "      <td>...</td>\n",
       "      <td>...</td>\n",
       "      <td>...</td>\n",
       "      <td>...</td>\n",
       "      <td>...</td>\n",
       "      <td>...</td>\n",
       "    </tr>\n",
       "    <tr>\n",
       "      <th>46603</th>\n",
       "      <td>46603</td>\n",
       "      <td>2306878a9ad9b57686cd623dd285aaa9b25afdf627f651...</td>\n",
       "      <td>LOST</td>\n",
       "      <td>Low availability</td>\n",
       "      <td>£60 - £120 Per week</td>\n",
       "      <td>Complete Education Year Stay 50 - 52 weeks</td>\n",
       "      <td>01/09/22</td>\n",
       "      <td>9b2d5b4678781e53038e91ea5324530a03f27dc1d0e5f6...</td>\n",
       "      <td>7d1550b844ff586a6023216c06263105eed0a849a2a1f6...</td>\n",
       "      <td>8da82000ef9c4468ba47362a924b895e40662fed846942...</td>\n",
       "      <td>bbdefa2950f49882f295b1285d4fa9dec45fc4144bfb07...</td>\n",
       "      <td>09076eb7665d1fb9389c7c4517fee0b00e43092eb34821...</td>\n",
       "      <td>13d4b96b6ee361b737e22404aeecca45f322ba7d4c2c42...</td>\n",
       "      <td>8d23a6e37e0a6431a8f1b43a91026dcff51170a89a6512...</td>\n",
       "      <td>Studio</td>\n",
       "      <td>1aaa4a4a9092e4c0eabf958ed9aea59c50d8ea3f08f691...</td>\n",
       "    </tr>\n",
       "    <tr>\n",
       "      <th>46604</th>\n",
       "      <td>46604</td>\n",
       "      <td>327ec29056cc47c24bf922f7dc0f78261dad5c726d7353...</td>\n",
       "      <td>LOST</td>\n",
       "      <td>Semester stay</td>\n",
       "      <td>£60 - £120 Per week</td>\n",
       "      <td>Summer/Short Stay 8 - 12 weeks</td>\n",
       "      <td>29/09/22</td>\n",
       "      <td>9b2d5b4678781e53038e91ea5324530a03f27dc1d0e5f6...</td>\n",
       "      <td>9f2ba6981e36ea0fca6c16f42e6413d788d2a7499b8b7f...</td>\n",
       "      <td>8da82000ef9c4468ba47362a924b895e40662fed846942...</td>\n",
       "      <td>bbdefa2950f49882f295b1285d4fa9dec45fc4144bfb07...</td>\n",
       "      <td>09076eb7665d1fb9389c7c4517fee0b00e43092eb34821...</td>\n",
       "      <td>998c18dc0e513ab0035c7b858e3780bbbead88695a15de...</td>\n",
       "      <td>8d23a6e37e0a6431a8f1b43a91026dcff51170a89a6512...</td>\n",
       "      <td>Studio</td>\n",
       "      <td>1f90dbad4873cb9673ff3c7ec69fbac4289181453c6cea...</td>\n",
       "    </tr>\n",
       "    <tr>\n",
       "      <th>46605</th>\n",
       "      <td>46605</td>\n",
       "      <td>1134c0a7d44fdae1afd7f1f64e2789496784095ca0a050...</td>\n",
       "      <td>LOST</td>\n",
       "      <td>Low availability</td>\n",
       "      <td>£241 - £300 Per week</td>\n",
       "      <td>Full Year Course Stay 40 - 44 weeks</td>\n",
       "      <td>20/09/22</td>\n",
       "      <td>7aae3e886e89fc1187a5c47d6cea1c22998ee610ade1f2...</td>\n",
       "      <td>7d1550b844ff586a6023216c06263105eed0a849a2a1f6...</td>\n",
       "      <td>8da82000ef9c4468ba47362a924b895e40662fed846942...</td>\n",
       "      <td>bbdefa2950f49882f295b1285d4fa9dec45fc4144bfb07...</td>\n",
       "      <td>09076eb7665d1fb9389c7c4517fee0b00e43092eb34821...</td>\n",
       "      <td>ecc0e7dc084f141b29479058967d0bc07dee25d9690a98...</td>\n",
       "      <td>8d23a6e37e0a6431a8f1b43a91026dcff51170a89a6512...</td>\n",
       "      <td>Studio</td>\n",
       "      <td>d9e0f455b68a6573544ffac32292541a510fe2daffe2bb...</td>\n",
       "    </tr>\n",
       "    <tr>\n",
       "      <th>46606</th>\n",
       "      <td>46606</td>\n",
       "      <td>8b8b029f1142f5cbc825aa6cbee01406c915c6b055db79...</td>\n",
       "      <td>LOST</td>\n",
       "      <td>Low availability</td>\n",
       "      <td>1108</td>\n",
       "      <td>294</td>\n",
       "      <td>30/08/22</td>\n",
       "      <td>d684761c17c11590f6e2525b48141cb2c0c6f2be5df4e2...</td>\n",
       "      <td>e9c722cbefc2f055ae60b4e2cbe73a2d99537eab0c37f3...</td>\n",
       "      <td>b936ee09e20b3b2234907cde349cda1c1a5327c4a486bf...</td>\n",
       "      <td>7f3fa48ca885678134842fa7456f3ece53a97f843b6101...</td>\n",
       "      <td>abb8e2badd5b6265c3237170cc599257a4f566706715d2...</td>\n",
       "      <td>ecc0e7dc084f141b29479058967d0bc07dee25d9690a98...</td>\n",
       "      <td>8d23a6e37e0a6431a8f1b43a91026dcff51170a89a6512...</td>\n",
       "      <td>NaN</td>\n",
       "      <td>1f90dbad4873cb9673ff3c7ec69fbac4289181453c6cea...</td>\n",
       "    </tr>\n",
       "    <tr>\n",
       "      <th>46607</th>\n",
       "      <td>46607</td>\n",
       "      <td>1ea65ea38f2f574b3875ba895e4ff76b284b7725041612...</td>\n",
       "      <td>LOST</td>\n",
       "      <td>Low availability</td>\n",
       "      <td>£181 - £240 Per Week</td>\n",
       "      <td>Full Year Course Stay 40 - 44 weeks</td>\n",
       "      <td>01/09/22</td>\n",
       "      <td>7aae3e886e89fc1187a5c47d6cea1c22998ee610ade1f2...</td>\n",
       "      <td>1496126b7015defbc3b1d129a46096a5c135075aff2add...</td>\n",
       "      <td>e09e10e67812e9d236ad900e5d46b4308fc62f5d69446a...</td>\n",
       "      <td>bbdefa2950f49882f295b1285d4fa9dec45fc4144bfb07...</td>\n",
       "      <td>09076eb7665d1fb9389c7c4517fee0b00e43092eb34821...</td>\n",
       "      <td>618738f7143c9b43a98a6b42d743a6595069a9b4dcf42d...</td>\n",
       "      <td>8d23a6e37e0a6431a8f1b43a91026dcff51170a89a6512...</td>\n",
       "      <td>Studio</td>\n",
       "      <td>7520a8abba2b44d7f37c0ddbe5f7f3d87540b2b7a670e9...</td>\n",
       "    </tr>\n",
       "  </tbody>\n",
       "</table>\n",
       "<p>46608 rows × 16 columns</p>\n",
       "</div>"
      ],
      "text/plain": [
       "       Unnamed: 0                                           Agent_id status  \\\n",
       "0               0  1deba9e96f404694373de9749ddd1ca8aa7bb823145a6f...   LOST   \n",
       "1               1  299ae77a4ef350ae0dd37d6bba1c002d03444fb1edb236...   LOST   \n",
       "2               2  c213697430c006013012dd2aca82dd9732aa0a1a6bca13...   LOST   \n",
       "3               3  eac9815a500f908736d303e23aa227f0957177b0e6756b...   LOST   \n",
       "4               4  1deba9e96f404694373de9749ddd1ca8aa7bb823145a6f...   LOST   \n",
       "...           ...                                                ...    ...   \n",
       "46603       46603  2306878a9ad9b57686cd623dd285aaa9b25afdf627f651...   LOST   \n",
       "46604       46604  327ec29056cc47c24bf922f7dc0f78261dad5c726d7353...   LOST   \n",
       "46605       46605  1134c0a7d44fdae1afd7f1f64e2789496784095ca0a050...   LOST   \n",
       "46606       46606  8b8b029f1142f5cbc825aa6cbee01406c915c6b055db79...   LOST   \n",
       "46607       46607  1ea65ea38f2f574b3875ba895e4ff76b284b7725041612...   LOST   \n",
       "\n",
       "            lost_reason                budget  \\\n",
       "0        Not responding                   NaN   \n",
       "1            Low budget                   NaN   \n",
       "2        Not responding  £121 - £180 Per Week   \n",
       "3            Low budget                   0-0   \n",
       "4             Junk lead                   NaN   \n",
       "...                 ...                   ...   \n",
       "46603  Low availability   £60 - £120 Per week   \n",
       "46604     Semester stay   £60 - £120 Per week   \n",
       "46605  Low availability  £241 - £300 Per week   \n",
       "46606  Low availability                  1108   \n",
       "46607  Low availability  £181 - £240 Per Week   \n",
       "\n",
       "                                            lease    movein  \\\n",
       "0                                             NaN       NaN   \n",
       "1                                             NaN       NaN   \n",
       "2             Full Year Course Stay 40 - 44 weeks  31/08/22   \n",
       "3                                               0       NaN   \n",
       "4                                             NaN       NaN   \n",
       "...                                           ...       ...   \n",
       "46603  Complete Education Year Stay 50 - 52 weeks  01/09/22   \n",
       "46604              Summer/Short Stay 8 - 12 weeks  29/09/22   \n",
       "46605         Full Year Course Stay 40 - 44 weeks  20/09/22   \n",
       "46606                                         294  30/08/22   \n",
       "46607         Full Year Course Stay 40 - 44 weeks  01/09/22   \n",
       "\n",
       "                                                  source  \\\n",
       "0      9b2d5b4678781e53038e91ea5324530a03f27dc1d0e5f6...   \n",
       "1      9b2d5b4678781e53038e91ea5324530a03f27dc1d0e5f6...   \n",
       "2      7aae3e886e89fc1187a5c47d6cea1c22998ee610ade1f2...   \n",
       "3      ba2d0a29556ac20f86f45e4543c0825428cba33fd7a9ea...   \n",
       "4      9b2d5b4678781e53038e91ea5324530a03f27dc1d0e5f6...   \n",
       "...                                                  ...   \n",
       "46603  9b2d5b4678781e53038e91ea5324530a03f27dc1d0e5f6...   \n",
       "46604  9b2d5b4678781e53038e91ea5324530a03f27dc1d0e5f6...   \n",
       "46605  7aae3e886e89fc1187a5c47d6cea1c22998ee610ade1f2...   \n",
       "46606  d684761c17c11590f6e2525b48141cb2c0c6f2be5df4e2...   \n",
       "46607  7aae3e886e89fc1187a5c47d6cea1c22998ee610ade1f2...   \n",
       "\n",
       "                                             source_city  \\\n",
       "0      9b2d5b4678781e53038e91ea5324530a03f27dc1d0e5f6...   \n",
       "1      9b2d5b4678781e53038e91ea5324530a03f27dc1d0e5f6...   \n",
       "2      9b8cc3c63cdf447e463c11544924bf027945cbd29675f7...   \n",
       "3      a5f0d2d08eb0592087e3a3a2f9c1ba2c67cc30f2efd2bd...   \n",
       "4      9b2d5b4678781e53038e91ea5324530a03f27dc1d0e5f6...   \n",
       "...                                                  ...   \n",
       "46603  7d1550b844ff586a6023216c06263105eed0a849a2a1f6...   \n",
       "46604  9f2ba6981e36ea0fca6c16f42e6413d788d2a7499b8b7f...   \n",
       "46605  7d1550b844ff586a6023216c06263105eed0a849a2a1f6...   \n",
       "46606  e9c722cbefc2f055ae60b4e2cbe73a2d99537eab0c37f3...   \n",
       "46607  1496126b7015defbc3b1d129a46096a5c135075aff2add...   \n",
       "\n",
       "                                          source_country  \\\n",
       "0      9b2d5b4678781e53038e91ea5324530a03f27dc1d0e5f6...   \n",
       "1      9b2d5b4678781e53038e91ea5324530a03f27dc1d0e5f6...   \n",
       "2      e09e10e67812e9d236ad900e5d46b4308fc62f5d69446a...   \n",
       "3      e09e10e67812e9d236ad900e5d46b4308fc62f5d69446a...   \n",
       "4      9b2d5b4678781e53038e91ea5324530a03f27dc1d0e5f6...   \n",
       "...                                                  ...   \n",
       "46603  8da82000ef9c4468ba47362a924b895e40662fed846942...   \n",
       "46604  8da82000ef9c4468ba47362a924b895e40662fed846942...   \n",
       "46605  8da82000ef9c4468ba47362a924b895e40662fed846942...   \n",
       "46606  b936ee09e20b3b2234907cde349cda1c1a5327c4a486bf...   \n",
       "46607  e09e10e67812e9d236ad900e5d46b4308fc62f5d69446a...   \n",
       "\n",
       "                                              utm_source  \\\n",
       "0      3d59f7548e1af2151b64135003ce63c0a484c26b9b8b16...   \n",
       "1      3d59f7548e1af2151b64135003ce63c0a484c26b9b8b16...   \n",
       "2      bbdefa2950f49882f295b1285d4fa9dec45fc4144bfb07...   \n",
       "3      bbdefa2950f49882f295b1285d4fa9dec45fc4144bfb07...   \n",
       "4      3d59f7548e1af2151b64135003ce63c0a484c26b9b8b16...   \n",
       "...                                                  ...   \n",
       "46603  bbdefa2950f49882f295b1285d4fa9dec45fc4144bfb07...   \n",
       "46604  bbdefa2950f49882f295b1285d4fa9dec45fc4144bfb07...   \n",
       "46605  bbdefa2950f49882f295b1285d4fa9dec45fc4144bfb07...   \n",
       "46606  7f3fa48ca885678134842fa7456f3ece53a97f843b6101...   \n",
       "46607  bbdefa2950f49882f295b1285d4fa9dec45fc4144bfb07...   \n",
       "\n",
       "                                              utm_medium  \\\n",
       "0      268ad70eb5bc4737a2ae28162cbca30118cc94520e49ef...   \n",
       "1      268ad70eb5bc4737a2ae28162cbca30118cc94520e49ef...   \n",
       "2      09076eb7665d1fb9389c7c4517fee0b00e43092eb34821...   \n",
       "3      09076eb7665d1fb9389c7c4517fee0b00e43092eb34821...   \n",
       "4      268ad70eb5bc4737a2ae28162cbca30118cc94520e49ef...   \n",
       "...                                                  ...   \n",
       "46603  09076eb7665d1fb9389c7c4517fee0b00e43092eb34821...   \n",
       "46604  09076eb7665d1fb9389c7c4517fee0b00e43092eb34821...   \n",
       "46605  09076eb7665d1fb9389c7c4517fee0b00e43092eb34821...   \n",
       "46606  abb8e2badd5b6265c3237170cc599257a4f566706715d2...   \n",
       "46607  09076eb7665d1fb9389c7c4517fee0b00e43092eb34821...   \n",
       "\n",
       "                                                des_city  \\\n",
       "0      ecc0e7dc084f141b29479058967d0bc07dee25d9690a98...   \n",
       "1      5372372f3bf5896820cb2819300c3e681820d82c6efc54...   \n",
       "2      11ab03a1a8c367191355c152f39fe28cae5e426fce49ef...   \n",
       "3      19372fa44c57a01c37a5a8418779ca3d99b0b59731fb35...   \n",
       "4      9b2d5b4678781e53038e91ea5324530a03f27dc1d0e5f6...   \n",
       "...                                                  ...   \n",
       "46603  13d4b96b6ee361b737e22404aeecca45f322ba7d4c2c42...   \n",
       "46604  998c18dc0e513ab0035c7b858e3780bbbead88695a15de...   \n",
       "46605  ecc0e7dc084f141b29479058967d0bc07dee25d9690a98...   \n",
       "46606  ecc0e7dc084f141b29479058967d0bc07dee25d9690a98...   \n",
       "46607  618738f7143c9b43a98a6b42d743a6595069a9b4dcf42d...   \n",
       "\n",
       "                                             des_country room_type  \\\n",
       "0      8d23a6e37e0a6431a8f1b43a91026dcff51170a89a6512...       NaN   \n",
       "1      8d23a6e37e0a6431a8f1b43a91026dcff51170a89a6512...       NaN   \n",
       "2      8d23a6e37e0a6431a8f1b43a91026dcff51170a89a6512...   Ensuite   \n",
       "3      8d23a6e37e0a6431a8f1b43a91026dcff51170a89a6512...       NaN   \n",
       "4      9b2d5b4678781e53038e91ea5324530a03f27dc1d0e5f6...       NaN   \n",
       "...                                                  ...       ...   \n",
       "46603  8d23a6e37e0a6431a8f1b43a91026dcff51170a89a6512...    Studio   \n",
       "46604  8d23a6e37e0a6431a8f1b43a91026dcff51170a89a6512...    Studio   \n",
       "46605  8d23a6e37e0a6431a8f1b43a91026dcff51170a89a6512...    Studio   \n",
       "46606  8d23a6e37e0a6431a8f1b43a91026dcff51170a89a6512...       NaN   \n",
       "46607  8d23a6e37e0a6431a8f1b43a91026dcff51170a89a6512...    Studio   \n",
       "\n",
       "                                                 lead_id  \n",
       "0      cd5dc0d9393f3980d11d4ba6f88f8110c2b7a7f7796307...  \n",
       "1      b94693673a5f7178d1b114e4004ad52377d3244dd24a3d...  \n",
       "2      96ea4e2bf04496c044745938c0299c264c3f4ba079e572...  \n",
       "3      1d2b34d8add02a182a4129023766ca4585a8ddced0e5b3...  \n",
       "4      fc10fffd29cfbe93c55158fb47752a7501c211d253468c...  \n",
       "...                                                  ...  \n",
       "46603  1aaa4a4a9092e4c0eabf958ed9aea59c50d8ea3f08f691...  \n",
       "46604  1f90dbad4873cb9673ff3c7ec69fbac4289181453c6cea...  \n",
       "46605  d9e0f455b68a6573544ffac32292541a510fe2daffe2bb...  \n",
       "46606  1f90dbad4873cb9673ff3c7ec69fbac4289181453c6cea...  \n",
       "46607  7520a8abba2b44d7f37c0ddbe5f7f3d87540b2b7a670e9...  \n",
       "\n",
       "[46608 rows x 16 columns]"
      ]
     },
     "execution_count": 2,
     "metadata": {},
     "output_type": "execute_result"
    }
   ],
   "source": [
    "#loading dataset\n",
    "df= pd.read_csv(r\"C:\\Users\\saksh\\OneDrive\\Desktop\\Data_Science_Internship - Dump.csv\")\n",
    "df"
   ]
  },
  {
   "cell_type": "code",
   "execution_count": 3,
   "id": "7d687368",
   "metadata": {},
   "outputs": [
    {
     "name": "stdout",
     "output_type": "stream",
     "text": [
      "<class 'pandas.core.frame.DataFrame'>\n",
      "RangeIndex: 46608 entries, 0 to 46607\n",
      "Data columns (total 16 columns):\n",
      " #   Column          Non-Null Count  Dtype \n",
      "---  ------          --------------  ----- \n",
      " 0   Unnamed: 0      46608 non-null  int64 \n",
      " 1   Agent_id        46608 non-null  object\n",
      " 2   status          46608 non-null  object\n",
      " 3   lost_reason     43244 non-null  object\n",
      " 4   budget          42908 non-null  object\n",
      " 5   lease           44267 non-null  object\n",
      " 6   movein          32970 non-null  object\n",
      " 7   source          46608 non-null  object\n",
      " 8   source_city     46608 non-null  object\n",
      " 9   source_country  46608 non-null  object\n",
      " 10  utm_source      46608 non-null  object\n",
      " 11  utm_medium      46608 non-null  object\n",
      " 12  des_city        46608 non-null  object\n",
      " 13  des_country     46608 non-null  object\n",
      " 14  room_type       23061 non-null  object\n",
      " 15  lead_id         46608 non-null  object\n",
      "dtypes: int64(1), object(15)\n",
      "memory usage: 5.7+ MB\n"
     ]
    }
   ],
   "source": [
    "df.info()"
   ]
  },
  {
   "cell_type": "code",
   "execution_count": 4,
   "id": "c4a0b1f8",
   "metadata": {},
   "outputs": [],
   "source": [
    "#Drop unnamed column and reset index\n",
    "df = df.drop('Unnamed: 0', axis=1)\n",
    "df = df.reset_index(drop=True)"
   ]
  },
  {
   "cell_type": "markdown",
   "id": "5a002765",
   "metadata": {},
   "source": [
    "To avoid loss of large amounts of data while removing null values, it is important to fill up those null values with appropriate data"
   ]
  },
  {
   "cell_type": "code",
   "execution_count": 5,
   "id": "b533b6a2",
   "metadata": {},
   "outputs": [
    {
     "data": {
      "text/plain": [
       "Agent_id              0\n",
       "status                0\n",
       "lost_reason        3364\n",
       "budget             3700\n",
       "lease              2341\n",
       "movein            13638\n",
       "source                0\n",
       "source_city           0\n",
       "source_country        0\n",
       "utm_source            0\n",
       "utm_medium            0\n",
       "des_city              0\n",
       "des_country           0\n",
       "room_type         23547\n",
       "lead_id               0\n",
       "dtype: int64"
      ]
     },
     "execution_count": 5,
     "metadata": {},
     "output_type": "execute_result"
    }
   ],
   "source": [
    "df.isnull().sum()"
   ]
  },
  {
   "cell_type": "code",
   "execution_count": 6,
   "id": "65766501",
   "metadata": {},
   "outputs": [
    {
     "data": {
      "text/plain": [
       "array(['Not responding', 'Low budget', 'Junk lead',\n",
       "       'Wants private accommodation', 'Short stay', 'Booked with manager',\n",
       "       'Low availability', 'Not interested', 'Just Enquiring',\n",
       "       'Distance issue', 'Not serving in that region', 'No supply',\n",
       "       'Repeat lead', 'Not a student', 'Semester stay', 'Supply issue',\n",
       "       nan, 'Visa/admission denied', 'Inadequate details',\n",
       "       'Booked with competitor', 'Not going to university',\n",
       "       'Junk lead/ Just Enquiring', 'Lead issue',\n",
       "       'Booked on campus accommodation', 'Looking for admission',\n",
       "       'Underage student', 'Guarantor issue', \"Didn't respond in time\",\n",
       "       'Looking for loan', 'Looking for Scholarship', 'Cross sell'],\n",
       "      dtype=object)"
      ]
     },
     "execution_count": 6,
     "metadata": {},
     "output_type": "execute_result"
    }
   ],
   "source": [
    "df['lost_reason'].unique()"
   ]
  },
  {
   "cell_type": "code",
   "execution_count": 7,
   "id": "9a2d2bde",
   "metadata": {},
   "outputs": [],
   "source": [
    "df['lost_reason'] = df['lost_reason'].fillna('not called', axis =0 )\n"
   ]
  },
  {
   "cell_type": "code",
   "execution_count": 8,
   "id": "db613c25",
   "metadata": {},
   "outputs": [
    {
     "data": {
      "text/plain": [
       "array([nan, '£121 - £180 Per Week', '0-0', ..., '400 Per Week',\n",
       "       '0-115 or 120', '0-500 PCM'], dtype=object)"
      ]
     },
     "execution_count": 8,
     "metadata": {},
     "output_type": "execute_result"
    }
   ],
   "source": [
    "df['budget'].unique()"
   ]
  },
  {
   "cell_type": "code",
   "execution_count": 9,
   "id": "a2eabcfe",
   "metadata": {},
   "outputs": [],
   "source": [
    "df['budget'] = df['budget'].fillna('unknown budget', axis =0 )"
   ]
  },
  {
   "cell_type": "code",
   "execution_count": 10,
   "id": "9f796850",
   "metadata": {},
   "outputs": [
    {
     "data": {
      "text/plain": [
       "array([nan, 'Full Year Course Stay 40 - 44 weeks', '0', 'semester-stay',\n",
       "       '51', 'Semester Stay 20 - 24 weeks',\n",
       "       'Complete Education Year Stay 50 - 52 weeks', 'full-course-stay',\n",
       "       'full-year-stay', 'Other', '51 weeks', '44', '18',\n",
       "       'full year stay', '51weeks', 'Summer/Short Stay 8 - 12 weeks',\n",
       "       '51 weeks \\\\', 'other', 'short-stay', '52 weeks', '44 weeks', '12',\n",
       "       '1 year', '96', '43', '20', '294', '20 - 24 weeks', '1 year .',\n",
       "       '48', '40', 'N51', '6', 'Academic year', '8', '51Weeks',\n",
       "       '50 weeks', '84', '15 weeks', 'full course', '45', '39', '1',\n",
       "       '5 weeks', '50', '12-24', '25', '45 weeks', '19', '44-51',\n",
       "       '6 weeks', 'FULL YEAR', '24-36', '32', '44/week', '42', '3 month',\n",
       "       '44-51 weeks', '3 months', '24', '6 months', '2 years', '10', '52',\n",
       "       '2 weeks', '46', 'sem stay', '13', 'lease', 'short stay', '4',\n",
       "       '52weeks', '69', '16', '50 - 52 weeks', '44 - 51 weeks',\n",
       "       '4-8 weeks', '4 weeks', '3', 'Full year stay', '11', '10-15 weeks',\n",
       "       '40-44', '52 weeks]', '26', '40 - 44 weeks', '51\\\\', '51 week',\n",
       "       '36 - 44', '140', 'Sem Stay', '41', '44/51 weeks', '56',\n",
       "       '40 weeks', '1 month', '10 months', '<=8', '44 WEEKS', '21', '2',\n",
       "       '24-44 weeks', '350', '06 months', '47', '12 weeks', '38', '54',\n",
       "       '37', '30', '16 weeks', '4 WEEKS', '15', '22', '17', '44weeks',\n",
       "       '5', 'Full Year Course Stay 51 weeks', '500-550pm', '12m',\n",
       "       '5 months', '14 weeks', '36', 'not sure', '49', '44-52 weeks',\n",
       "       '41 weeks', '45/week', '23', '51 weeks weeks',\n",
       "       'Full Year Course Stay 44- 51 weeks', '24 weeks', '11 months',\n",
       "       'Full Year Stay', '44 week', '10 weeks', '5-6 months',\n",
       "       '40-44 weeks', 'semester stay', 'ASAP', 'academic year',\n",
       "       '42-52 weeks', '2-3 months', '41weeks', '34', '35 weeks',\n",
       "       '8months', '16 week', 'until dec', '1 - 2 months', 'full year',\n",
       "       '51-54weeks', '357', 'Full year', '3 years', '7 days', '4 months',\n",
       "       'long tearm', '55', '56 weeks', '207', '35', '14',\n",
       "       'Stay 50 - 52 weeks', '1 year stay.', '30 weeks', '61', '88',\n",
       "       '1year', '3-4 weeks',\n",
       "       '51 weeks ( I don’t mind travelling over an hour)', '44-51 weeeks',\n",
       "       'N/44', '8 weeks', '38 Weeks', '24-48 weeks', '156', '9-12 months',\n",
       "       '6 motnhs', '44WEEKS', '2 -3weeks', '3-4 months', 'Semester stay',\n",
       "       '20weeks', '1 month\\\\', 'aug', '97', '44-51weeks', '76',\n",
       "       '44/weeks', '6 month', '36-40 weeks', '17 weeks', '12 month',\n",
       "       '44 weeks/51 weeks', 'full year stayt', 'Short stay',\n",
       "       '25-30 weeks', '1 week', '31', '125/week', '60', '1-2', '6  onths',\n",
       "       '03 months', '44 - 51', '-', '45 or more', 'Semester Stay', '27',\n",
       "       '46 weeks', '38-44 weeks', 'full yyear stay', '0.5', '8-12 weeks',\n",
       "       '6months', '9', 'London', '28', '46 week', '72', 'Long time',\n",
       "       '51 cweeks', '42 weeks', '12 months', '33', '1 year stay',\n",
       "       '6weeks', '2years', '43 weeks', '6 months (26 weeks)', '20 weeks',\n",
       "       '53 weeks', 'Full Year', '7-8 months', '10 month', 'Glasgow',\n",
       "       '10weeks', '51WEEKS', 'till december', '9 months', '36-38 weeks',\n",
       "       '19 weeks', '40weeks +', '40 week', '250', '39 weeks',\n",
       "       '6-8 months', '6m to 1 year', '44weeks - 51', '130/week',\n",
       "       '51 wweeks', '45 weeksa', '68', '44 or 51 weeks', '51 WEEKS',\n",
       "       '52 WEEKS', '51  weeks', '51sweek', '48 weeks', '44 week stay',\n",
       "       '44week', '43/44 weeks', '130', '29', '58', '3months', '160/week',\n",
       "       'Until June 2023', '34 weeks', 'Whole year', '40 weekks',\n",
       "       '-51 weeks', '12-16', '45 WEEKS', 'Until august', '8-12 m',\n",
       "       '39 week', '16 days', '150', '2 months', '38 weeks', '1-2 months',\n",
       "       'Full time', '1 weeks', '44-', '2 month', '3-5 months', '3 weeks',\n",
       "       '143', '144', '1 YEAR', '44 week s', '57', '40+', '129', '42-51',\n",
       "       'Sem stay', '70', '189', '5-6 weeks', 'academic yr',\n",
       "       '12 weeks max', '23 weeks', '89', '1 mnth', '200/week', '22 weeks',\n",
       "       '51 Weeks', '24-44weeks', '33 weeks', '78'], dtype=object)"
      ]
     },
     "execution_count": 10,
     "metadata": {},
     "output_type": "execute_result"
    }
   ],
   "source": [
    "df['lease'].unique()\n"
   ]
  },
  {
   "cell_type": "code",
   "execution_count": 11,
   "id": "1342000b",
   "metadata": {},
   "outputs": [],
   "source": [
    "df['lease'] = df['lease'].fillna('unknown budget', axis =0 )"
   ]
  },
  {
   "cell_type": "code",
   "execution_count": 12,
   "id": "a2a1d904",
   "metadata": {},
   "outputs": [],
   "source": [
    "df['movein'] = df['movein'].fillna('not yet', axis =0 )"
   ]
  },
  {
   "cell_type": "code",
   "execution_count": 13,
   "id": "e644cd41",
   "metadata": {},
   "outputs": [
    {
     "data": {
      "text/plain": [
       "array([nan, 'Ensuite', 'Entire Place', 'Studio', 'Twin-Studio',\n",
       "       'Non-Ensuite'], dtype=object)"
      ]
     },
     "execution_count": 13,
     "metadata": {},
     "output_type": "execute_result"
    }
   ],
   "source": [
    "df['room_type'].unique()"
   ]
  },
  {
   "cell_type": "code",
   "execution_count": 14,
   "id": "bf3a4583",
   "metadata": {},
   "outputs": [],
   "source": [
    "df['room_type'] = df['room_type'].fillna('not alloted', axis =0 )"
   ]
  },
  {
   "cell_type": "markdown",
   "id": "11ff9139",
   "metadata": {},
   "source": [
    "Replacing not required values with np.NAN so null values can be removed easily."
   ]
  },
  {
   "cell_type": "code",
   "execution_count": 15,
   "id": "da90c121",
   "metadata": {},
   "outputs": [],
   "source": [
    "df = df.replace('9b2d5b4678781e53038e91ea5324530a03f27dc1d0e5f6c9bc9d493a23be9de0',np.NAN)\n",
    "df['status'] = df['status'].replace('OPPORTUNITY',np.NAN)\n",
    "df['status'] = df['status'].replace('PROCESSING',np.NAN)\n",
    "df['status'] = df['status'].replace('CONTACTED',np.NAN)\n",
    "df['status'] = df['status'].replace('IMPORTANT',np.NAN)"
   ]
  },
  {
   "cell_type": "code",
   "execution_count": 16,
   "id": "01431d2f",
   "metadata": {},
   "outputs": [
    {
     "data": {
      "text/plain": [
       "Agent_id             0\n",
       "status             291\n",
       "lost_reason          0\n",
       "budget               0\n",
       "lease                0\n",
       "movein               0\n",
       "source            5977\n",
       "source_city       8851\n",
       "source_country    8641\n",
       "utm_source          61\n",
       "utm_medium        3187\n",
       "des_city          2537\n",
       "des_country       2537\n",
       "room_type            0\n",
       "lead_id              0\n",
       "dtype: int64"
      ]
     },
     "execution_count": 16,
     "metadata": {},
     "output_type": "execute_result"
    }
   ],
   "source": [
    "df.isnull().sum()"
   ]
  },
  {
   "cell_type": "code",
   "execution_count": 17,
   "id": "2ab9aafd",
   "metadata": {},
   "outputs": [],
   "source": [
    "df = df.dropna()\n"
   ]
  },
  {
   "cell_type": "code",
   "execution_count": 18,
   "id": "79a901bf",
   "metadata": {},
   "outputs": [
    {
     "data": {
      "text/html": [
       "<div>\n",
       "<style scoped>\n",
       "    .dataframe tbody tr th:only-of-type {\n",
       "        vertical-align: middle;\n",
       "    }\n",
       "\n",
       "    .dataframe tbody tr th {\n",
       "        vertical-align: top;\n",
       "    }\n",
       "\n",
       "    .dataframe thead th {\n",
       "        text-align: right;\n",
       "    }\n",
       "</style>\n",
       "<table border=\"1\" class=\"dataframe\">\n",
       "  <thead>\n",
       "    <tr style=\"text-align: right;\">\n",
       "      <th></th>\n",
       "      <th>Agent_id</th>\n",
       "      <th>status</th>\n",
       "      <th>lost_reason</th>\n",
       "      <th>budget</th>\n",
       "      <th>lease</th>\n",
       "      <th>movein</th>\n",
       "      <th>source</th>\n",
       "      <th>source_city</th>\n",
       "      <th>source_country</th>\n",
       "      <th>utm_source</th>\n",
       "      <th>utm_medium</th>\n",
       "      <th>des_city</th>\n",
       "      <th>des_country</th>\n",
       "      <th>room_type</th>\n",
       "      <th>lead_id</th>\n",
       "    </tr>\n",
       "  </thead>\n",
       "  <tbody>\n",
       "    <tr>\n",
       "      <th>count</th>\n",
       "      <td>30876</td>\n",
       "      <td>30876</td>\n",
       "      <td>30876</td>\n",
       "      <td>30876</td>\n",
       "      <td>30876</td>\n",
       "      <td>30876</td>\n",
       "      <td>30876</td>\n",
       "      <td>30876</td>\n",
       "      <td>30876</td>\n",
       "      <td>30876</td>\n",
       "      <td>30876</td>\n",
       "      <td>30876</td>\n",
       "      <td>30876</td>\n",
       "      <td>30876</td>\n",
       "      <td>30876</td>\n",
       "    </tr>\n",
       "    <tr>\n",
       "      <th>unique</th>\n",
       "      <td>113</td>\n",
       "      <td>2</td>\n",
       "      <td>30</td>\n",
       "      <td>875</td>\n",
       "      <td>223</td>\n",
       "      <td>424</td>\n",
       "      <td>213</td>\n",
       "      <td>3863</td>\n",
       "      <td>177</td>\n",
       "      <td>28</td>\n",
       "      <td>30</td>\n",
       "      <td>204</td>\n",
       "      <td>13</td>\n",
       "      <td>6</td>\n",
       "      <td>23491</td>\n",
       "    </tr>\n",
       "    <tr>\n",
       "      <th>top</th>\n",
       "      <td>2fca346db656187102ce806ac732e06a62df0dbb2829e5...</td>\n",
       "      <td>LOST</td>\n",
       "      <td>Not responding</td>\n",
       "      <td>£60 - £120 Per week</td>\n",
       "      <td>Full Year Course Stay 40 - 44 weeks</td>\n",
       "      <td>not yet</td>\n",
       "      <td>7aae3e886e89fc1187a5c47d6cea1c22998ee610ade1f2...</td>\n",
       "      <td>ecc0e7dc084f141b29479058967d0bc07dee25d9690a98...</td>\n",
       "      <td>e09e10e67812e9d236ad900e5d46b4308fc62f5d69446a...</td>\n",
       "      <td>bbdefa2950f49882f295b1285d4fa9dec45fc4144bfb07...</td>\n",
       "      <td>09076eb7665d1fb9389c7c4517fee0b00e43092eb34821...</td>\n",
       "      <td>ecc0e7dc084f141b29479058967d0bc07dee25d9690a98...</td>\n",
       "      <td>8d23a6e37e0a6431a8f1b43a91026dcff51170a89a6512...</td>\n",
       "      <td>not alloted</td>\n",
       "      <td>96ea4e2bf04496c044745938c0299c264c3f4ba079e572...</td>\n",
       "    </tr>\n",
       "    <tr>\n",
       "      <th>freq</th>\n",
       "      <td>4304</td>\n",
       "      <td>28660</td>\n",
       "      <td>5989</td>\n",
       "      <td>7850</td>\n",
       "      <td>9230</td>\n",
       "      <td>8123</td>\n",
       "      <td>19026</td>\n",
       "      <td>2555</td>\n",
       "      <td>16148</td>\n",
       "      <td>26897</td>\n",
       "      <td>27467</td>\n",
       "      <td>4489</td>\n",
       "      <td>29725</td>\n",
       "      <td>11975</td>\n",
       "      <td>2</td>\n",
       "    </tr>\n",
       "  </tbody>\n",
       "</table>\n",
       "</div>"
      ],
      "text/plain": [
       "                                                 Agent_id status  \\\n",
       "count                                               30876  30876   \n",
       "unique                                                113      2   \n",
       "top     2fca346db656187102ce806ac732e06a62df0dbb2829e5...   LOST   \n",
       "freq                                                 4304  28660   \n",
       "\n",
       "           lost_reason               budget  \\\n",
       "count            30876                30876   \n",
       "unique              30                  875   \n",
       "top     Not responding  £60 - £120 Per week   \n",
       "freq              5989                 7850   \n",
       "\n",
       "                                      lease   movein  \\\n",
       "count                                 30876    30876   \n",
       "unique                                  223      424   \n",
       "top     Full Year Course Stay 40 - 44 weeks  not yet   \n",
       "freq                                   9230     8123   \n",
       "\n",
       "                                                   source  \\\n",
       "count                                               30876   \n",
       "unique                                                213   \n",
       "top     7aae3e886e89fc1187a5c47d6cea1c22998ee610ade1f2...   \n",
       "freq                                                19026   \n",
       "\n",
       "                                              source_city  \\\n",
       "count                                               30876   \n",
       "unique                                               3863   \n",
       "top     ecc0e7dc084f141b29479058967d0bc07dee25d9690a98...   \n",
       "freq                                                 2555   \n",
       "\n",
       "                                           source_country  \\\n",
       "count                                               30876   \n",
       "unique                                                177   \n",
       "top     e09e10e67812e9d236ad900e5d46b4308fc62f5d69446a...   \n",
       "freq                                                16148   \n",
       "\n",
       "                                               utm_source  \\\n",
       "count                                               30876   \n",
       "unique                                                 28   \n",
       "top     bbdefa2950f49882f295b1285d4fa9dec45fc4144bfb07...   \n",
       "freq                                                26897   \n",
       "\n",
       "                                               utm_medium  \\\n",
       "count                                               30876   \n",
       "unique                                                 30   \n",
       "top     09076eb7665d1fb9389c7c4517fee0b00e43092eb34821...   \n",
       "freq                                                27467   \n",
       "\n",
       "                                                 des_city  \\\n",
       "count                                               30876   \n",
       "unique                                                204   \n",
       "top     ecc0e7dc084f141b29479058967d0bc07dee25d9690a98...   \n",
       "freq                                                 4489   \n",
       "\n",
       "                                              des_country    room_type  \\\n",
       "count                                               30876        30876   \n",
       "unique                                                 13            6   \n",
       "top     8d23a6e37e0a6431a8f1b43a91026dcff51170a89a6512...  not alloted   \n",
       "freq                                                29725        11975   \n",
       "\n",
       "                                                  lead_id  \n",
       "count                                               30876  \n",
       "unique                                              23491  \n",
       "top     96ea4e2bf04496c044745938c0299c264c3f4ba079e572...  \n",
       "freq                                                    2  "
      ]
     },
     "execution_count": 18,
     "metadata": {},
     "output_type": "execute_result"
    }
   ],
   "source": [
    "df.describe(include= 'all')"
   ]
  },
  {
   "cell_type": "code",
   "execution_count": 19,
   "id": "2dd4570b",
   "metadata": {},
   "outputs": [],
   "source": [
    "df = df.reset_index(drop=True)\n"
   ]
  },
  {
   "cell_type": "markdown",
   "id": "7587ceaa",
   "metadata": {},
   "source": [
    "Checking if we have both the case of WON and LOST after Data cleaning is done"
   ]
  },
  {
   "cell_type": "code",
   "execution_count": 20,
   "id": "371e425b",
   "metadata": {},
   "outputs": [
    {
     "data": {
      "text/plain": [
       "LOST    28660\n",
       "WON      2216\n",
       "Name: status, dtype: int64"
      ]
     },
     "execution_count": 20,
     "metadata": {},
     "output_type": "execute_result"
    }
   ],
   "source": [
    "df['status'].value_counts()"
   ]
  },
  {
   "cell_type": "code",
   "execution_count": 21,
   "id": "7215ee7f",
   "metadata": {},
   "outputs": [
    {
     "data": {
      "text/plain": [
       "0"
      ]
     },
     "execution_count": 21,
     "metadata": {},
     "output_type": "execute_result"
    }
   ],
   "source": [
    "df.duplicated().sum()"
   ]
  },
  {
   "cell_type": "markdown",
   "id": "0d2d5cbb",
   "metadata": {},
   "source": [
    "Label Encoder is used to convert categorical data into numerical data. It assigns a unique numerical label to each category in the data, thereby creating a new numerical feature for each category."
   ]
  },
  {
   "cell_type": "code",
   "execution_count": 22,
   "id": "cf5985f5",
   "metadata": {},
   "outputs": [],
   "source": [
    "from sklearn.preprocessing import LabelEncoder\n",
    "label = LabelEncoder()"
   ]
  },
  {
   "cell_type": "code",
   "execution_count": 23,
   "id": "35b17d38",
   "metadata": {},
   "outputs": [
    {
     "data": {
      "text/plain": [
       "['Agent_id',\n",
       " 'status',\n",
       " 'lost_reason',\n",
       " 'budget',\n",
       " 'lease',\n",
       " 'movein',\n",
       " 'source',\n",
       " 'source_city',\n",
       " 'source_country',\n",
       " 'utm_source',\n",
       " 'utm_medium',\n",
       " 'des_city',\n",
       " 'des_country',\n",
       " 'room_type',\n",
       " 'lead_id']"
      ]
     },
     "execution_count": 23,
     "metadata": {},
     "output_type": "execute_result"
    }
   ],
   "source": [
    "col = list(df.columns)\n",
    "col"
   ]
  },
  {
   "cell_type": "code",
   "execution_count": 24,
   "id": "b0454350",
   "metadata": {},
   "outputs": [],
   "source": [
    "for cols in col:\n",
    "    df[cols] = label.fit_transform(df[cols])"
   ]
  },
  {
   "cell_type": "code",
   "execution_count": 25,
   "id": "353281cc",
   "metadata": {},
   "outputs": [],
   "source": [
    "df['status'] = df['status'].astype('float')"
   ]
  },
  {
   "cell_type": "code",
   "execution_count": 26,
   "id": "f79f8608",
   "metadata": {},
   "outputs": [
    {
     "data": {
      "text/html": [
       "<div>\n",
       "<style scoped>\n",
       "    .dataframe tbody tr th:only-of-type {\n",
       "        vertical-align: middle;\n",
       "    }\n",
       "\n",
       "    .dataframe tbody tr th {\n",
       "        vertical-align: top;\n",
       "    }\n",
       "\n",
       "    .dataframe thead th {\n",
       "        text-align: right;\n",
       "    }\n",
       "</style>\n",
       "<table border=\"1\" class=\"dataframe\">\n",
       "  <thead>\n",
       "    <tr style=\"text-align: right;\">\n",
       "      <th></th>\n",
       "      <th>Agent_id</th>\n",
       "      <th>status</th>\n",
       "      <th>lost_reason</th>\n",
       "      <th>budget</th>\n",
       "      <th>lease</th>\n",
       "      <th>movein</th>\n",
       "      <th>source</th>\n",
       "      <th>source_city</th>\n",
       "      <th>source_country</th>\n",
       "      <th>utm_source</th>\n",
       "      <th>utm_medium</th>\n",
       "      <th>des_city</th>\n",
       "      <th>des_country</th>\n",
       "      <th>room_type</th>\n",
       "      <th>lead_id</th>\n",
       "    </tr>\n",
       "  </thead>\n",
       "  <tbody>\n",
       "    <tr>\n",
       "      <th>0</th>\n",
       "      <td>80</td>\n",
       "      <td>0.0</td>\n",
       "      <td>20</td>\n",
       "      <td>798</td>\n",
       "      <td>192</td>\n",
       "      <td>417</td>\n",
       "      <td>98</td>\n",
       "      <td>2345</td>\n",
       "      <td>160</td>\n",
       "      <td>19</td>\n",
       "      <td>2</td>\n",
       "      <td>17</td>\n",
       "      <td>8</td>\n",
       "      <td>0</td>\n",
       "      <td>13758</td>\n",
       "    </tr>\n",
       "    <tr>\n",
       "      <th>1</th>\n",
       "      <td>103</td>\n",
       "      <td>0.0</td>\n",
       "      <td>15</td>\n",
       "      <td>1</td>\n",
       "      <td>0</td>\n",
       "      <td>423</td>\n",
       "      <td>146</td>\n",
       "      <td>2522</td>\n",
       "      <td>160</td>\n",
       "      <td>19</td>\n",
       "      <td>2</td>\n",
       "      <td>25</td>\n",
       "      <td>8</td>\n",
       "      <td>5</td>\n",
       "      <td>2715</td>\n",
       "    </tr>\n",
       "    <tr>\n",
       "      <th>2</th>\n",
       "      <td>13</td>\n",
       "      <td>0.0</td>\n",
       "      <td>28</td>\n",
       "      <td>78</td>\n",
       "      <td>219</td>\n",
       "      <td>423</td>\n",
       "      <td>99</td>\n",
       "      <td>1877</td>\n",
       "      <td>98</td>\n",
       "      <td>19</td>\n",
       "      <td>2</td>\n",
       "      <td>195</td>\n",
       "      <td>8</td>\n",
       "      <td>5</td>\n",
       "      <td>16343</td>\n",
       "    </tr>\n",
       "    <tr>\n",
       "      <th>3</th>\n",
       "      <td>13</td>\n",
       "      <td>0.0</td>\n",
       "      <td>24</td>\n",
       "      <td>1</td>\n",
       "      <td>0</td>\n",
       "      <td>423</td>\n",
       "      <td>126</td>\n",
       "      <td>924</td>\n",
       "      <td>160</td>\n",
       "      <td>8</td>\n",
       "      <td>2</td>\n",
       "      <td>190</td>\n",
       "      <td>8</td>\n",
       "      <td>5</td>\n",
       "      <td>11513</td>\n",
       "    </tr>\n",
       "    <tr>\n",
       "      <th>4</th>\n",
       "      <td>25</td>\n",
       "      <td>0.0</td>\n",
       "      <td>28</td>\n",
       "      <td>831</td>\n",
       "      <td>152</td>\n",
       "      <td>113</td>\n",
       "      <td>98</td>\n",
       "      <td>2033</td>\n",
       "      <td>160</td>\n",
       "      <td>19</td>\n",
       "      <td>2</td>\n",
       "      <td>109</td>\n",
       "      <td>8</td>\n",
       "      <td>1</td>\n",
       "      <td>13758</td>\n",
       "    </tr>\n",
       "    <tr>\n",
       "      <th>...</th>\n",
       "      <td>...</td>\n",
       "      <td>...</td>\n",
       "      <td>...</td>\n",
       "      <td>...</td>\n",
       "      <td>...</td>\n",
       "      <td>...</td>\n",
       "      <td>...</td>\n",
       "      <td>...</td>\n",
       "      <td>...</td>\n",
       "      <td>...</td>\n",
       "      <td>...</td>\n",
       "      <td>...</td>\n",
       "      <td>...</td>\n",
       "      <td>...</td>\n",
       "      <td>...</td>\n",
       "    </tr>\n",
       "    <tr>\n",
       "      <th>30871</th>\n",
       "      <td>103</td>\n",
       "      <td>0.0</td>\n",
       "      <td>14</td>\n",
       "      <td>864</td>\n",
       "      <td>201</td>\n",
       "      <td>417</td>\n",
       "      <td>98</td>\n",
       "      <td>1022</td>\n",
       "      <td>160</td>\n",
       "      <td>19</td>\n",
       "      <td>2</td>\n",
       "      <td>6</td>\n",
       "      <td>8</td>\n",
       "      <td>1</td>\n",
       "      <td>12197</td>\n",
       "    </tr>\n",
       "    <tr>\n",
       "      <th>30872</th>\n",
       "      <td>90</td>\n",
       "      <td>0.0</td>\n",
       "      <td>28</td>\n",
       "      <td>798</td>\n",
       "      <td>198</td>\n",
       "      <td>259</td>\n",
       "      <td>98</td>\n",
       "      <td>1877</td>\n",
       "      <td>98</td>\n",
       "      <td>19</td>\n",
       "      <td>2</td>\n",
       "      <td>85</td>\n",
       "      <td>8</td>\n",
       "      <td>1</td>\n",
       "      <td>19946</td>\n",
       "    </tr>\n",
       "    <tr>\n",
       "      <th>30873</th>\n",
       "      <td>4</td>\n",
       "      <td>0.0</td>\n",
       "      <td>14</td>\n",
       "      <td>843</td>\n",
       "      <td>192</td>\n",
       "      <td>273</td>\n",
       "      <td>98</td>\n",
       "      <td>1897</td>\n",
       "      <td>98</td>\n",
       "      <td>19</td>\n",
       "      <td>2</td>\n",
       "      <td>190</td>\n",
       "      <td>8</td>\n",
       "      <td>3</td>\n",
       "      <td>19946</td>\n",
       "    </tr>\n",
       "    <tr>\n",
       "      <th>30874</th>\n",
       "      <td>55</td>\n",
       "      <td>0.0</td>\n",
       "      <td>14</td>\n",
       "      <td>63</td>\n",
       "      <td>66</td>\n",
       "      <td>403</td>\n",
       "      <td>174</td>\n",
       "      <td>3525</td>\n",
       "      <td>129</td>\n",
       "      <td>14</td>\n",
       "      <td>23</td>\n",
       "      <td>190</td>\n",
       "      <td>8</td>\n",
       "      <td>5</td>\n",
       "      <td>2961</td>\n",
       "    </tr>\n",
       "    <tr>\n",
       "      <th>30875</th>\n",
       "      <td>12</td>\n",
       "      <td>0.0</td>\n",
       "      <td>14</td>\n",
       "      <td>831</td>\n",
       "      <td>192</td>\n",
       "      <td>15</td>\n",
       "      <td>98</td>\n",
       "      <td>308</td>\n",
       "      <td>160</td>\n",
       "      <td>19</td>\n",
       "      <td>2</td>\n",
       "      <td>82</td>\n",
       "      <td>8</td>\n",
       "      <td>3</td>\n",
       "      <td>10672</td>\n",
       "    </tr>\n",
       "  </tbody>\n",
       "</table>\n",
       "<p>30876 rows × 15 columns</p>\n",
       "</div>"
      ],
      "text/plain": [
       "       Agent_id  status  lost_reason  budget  lease  movein  source  \\\n",
       "0            80     0.0           20     798    192     417      98   \n",
       "1           103     0.0           15       1      0     423     146   \n",
       "2            13     0.0           28      78    219     423      99   \n",
       "3            13     0.0           24       1      0     423     126   \n",
       "4            25     0.0           28     831    152     113      98   \n",
       "...         ...     ...          ...     ...    ...     ...     ...   \n",
       "30871       103     0.0           14     864    201     417      98   \n",
       "30872        90     0.0           28     798    198     259      98   \n",
       "30873         4     0.0           14     843    192     273      98   \n",
       "30874        55     0.0           14      63     66     403     174   \n",
       "30875        12     0.0           14     831    192      15      98   \n",
       "\n",
       "       source_city  source_country  utm_source  utm_medium  des_city  \\\n",
       "0             2345             160          19           2        17   \n",
       "1             2522             160          19           2        25   \n",
       "2             1877              98          19           2       195   \n",
       "3              924             160           8           2       190   \n",
       "4             2033             160          19           2       109   \n",
       "...            ...             ...         ...         ...       ...   \n",
       "30871         1022             160          19           2         6   \n",
       "30872         1877              98          19           2        85   \n",
       "30873         1897              98          19           2       190   \n",
       "30874         3525             129          14          23       190   \n",
       "30875          308             160          19           2        82   \n",
       "\n",
       "       des_country  room_type  lead_id  \n",
       "0                8          0    13758  \n",
       "1                8          5     2715  \n",
       "2                8          5    16343  \n",
       "3                8          5    11513  \n",
       "4                8          1    13758  \n",
       "...            ...        ...      ...  \n",
       "30871            8          1    12197  \n",
       "30872            8          1    19946  \n",
       "30873            8          3    19946  \n",
       "30874            8          5     2961  \n",
       "30875            8          3    10672  \n",
       "\n",
       "[30876 rows x 15 columns]"
      ]
     },
     "execution_count": 26,
     "metadata": {},
     "output_type": "execute_result"
    }
   ],
   "source": [
    "df"
   ]
  },
  {
   "cell_type": "markdown",
   "id": "a34c300e",
   "metadata": {},
   "source": [
    "Spliting Dataset into train and test split"
   ]
  },
  {
   "cell_type": "code",
   "execution_count": 27,
   "id": "f5849d43",
   "metadata": {},
   "outputs": [],
   "source": [
    "X = df.iloc[:,[2,3,4,6,7,8,9,10,11,12,13]]\n",
    "Y = df['status']"
   ]
  },
  {
   "cell_type": "code",
   "execution_count": 28,
   "id": "e853aa35",
   "metadata": {},
   "outputs": [],
   "source": [
    "from sklearn.model_selection import train_test_split\n",
    "X_train,X_test,Y_train,Y_test = train_test_split(X,Y,random_state=0,test_size=0.15,stratify=Y)"
   ]
  },
  {
   "cell_type": "code",
   "execution_count": 29,
   "id": "e30b7695",
   "metadata": {},
   "outputs": [
    {
     "name": "stdout",
     "output_type": "stream",
     "text": [
      "(26244, 11) (4632, 11)\n",
      "(26244,) (4632,)\n"
     ]
    }
   ],
   "source": [
    "print(X_train.shape,X_test.shape)\n",
    "print(Y_train.shape,Y_test.shape)"
   ]
  },
  {
   "cell_type": "markdown",
   "id": "2798a190",
   "metadata": {},
   "source": [
    "Apply Linear Regression model to get continuous output which can we further converted in range of 0-100 for our Lead scoring model "
   ]
  },
  {
   "cell_type": "code",
   "execution_count": 30,
   "id": "30fbd804",
   "metadata": {},
   "outputs": [],
   "source": [
    "from sklearn.linear_model import LinearRegression\n",
    "linear = LinearRegression()"
   ]
  },
  {
   "cell_type": "code",
   "execution_count": 31,
   "id": "1df9067d",
   "metadata": {},
   "outputs": [
    {
     "data": {
      "text/plain": [
       "LinearRegression()"
      ]
     },
     "execution_count": 31,
     "metadata": {},
     "output_type": "execute_result"
    }
   ],
   "source": [
    "linear.fit(X_train,Y_train)"
   ]
  },
  {
   "cell_type": "code",
   "execution_count": 32,
   "id": "1f3cb675",
   "metadata": {},
   "outputs": [
    {
     "data": {
      "text/plain": [
       "array([0.03743918, 0.0022835 , 0.08558268, ..., 0.03992468, 0.01218593,\n",
       "       0.11088737])"
      ]
     },
     "execution_count": 32,
     "metadata": {},
     "output_type": "execute_result"
    }
   ],
   "source": [
    "pred = linear.predict(X_test)\n",
    "pred"
   ]
  },
  {
   "cell_type": "markdown",
   "id": "7c1ae66a",
   "metadata": {},
   "source": [
    "Creating new DataFrame with actual output and predicted output"
   ]
  },
  {
   "cell_type": "code",
   "execution_count": 33,
   "id": "d197b3b7",
   "metadata": {},
   "outputs": [],
   "source": [
    "lr_pred=pd.DataFrame(columns={'Actual_data','Prediction_data'})\n",
    "lr_pred['Actual_data']=Y_test\n",
    "lr_pred['Prediction_data']=pred\n",
    "lr_pred = lr_pred.reset_index(drop=True)"
   ]
  },
  {
   "cell_type": "code",
   "execution_count": 34,
   "id": "0fcb6c9c",
   "metadata": {},
   "outputs": [
    {
     "data": {
      "text/html": [
       "<div>\n",
       "<style scoped>\n",
       "    .dataframe tbody tr th:only-of-type {\n",
       "        vertical-align: middle;\n",
       "    }\n",
       "\n",
       "    .dataframe tbody tr th {\n",
       "        vertical-align: top;\n",
       "    }\n",
       "\n",
       "    .dataframe thead th {\n",
       "        text-align: right;\n",
       "    }\n",
       "</style>\n",
       "<table border=\"1\" class=\"dataframe\">\n",
       "  <thead>\n",
       "    <tr style=\"text-align: right;\">\n",
       "      <th></th>\n",
       "      <th>Prediction_data</th>\n",
       "      <th>Actual_data</th>\n",
       "    </tr>\n",
       "  </thead>\n",
       "  <tbody>\n",
       "    <tr>\n",
       "      <th>0</th>\n",
       "      <td>0.037439</td>\n",
       "      <td>0.0</td>\n",
       "    </tr>\n",
       "    <tr>\n",
       "      <th>1</th>\n",
       "      <td>0.002283</td>\n",
       "      <td>0.0</td>\n",
       "    </tr>\n",
       "    <tr>\n",
       "      <th>2</th>\n",
       "      <td>0.085583</td>\n",
       "      <td>0.0</td>\n",
       "    </tr>\n",
       "    <tr>\n",
       "      <th>3</th>\n",
       "      <td>-0.030680</td>\n",
       "      <td>0.0</td>\n",
       "    </tr>\n",
       "    <tr>\n",
       "      <th>4</th>\n",
       "      <td>0.080455</td>\n",
       "      <td>0.0</td>\n",
       "    </tr>\n",
       "    <tr>\n",
       "      <th>...</th>\n",
       "      <td>...</td>\n",
       "      <td>...</td>\n",
       "    </tr>\n",
       "    <tr>\n",
       "      <th>4627</th>\n",
       "      <td>-0.017948</td>\n",
       "      <td>0.0</td>\n",
       "    </tr>\n",
       "    <tr>\n",
       "      <th>4628</th>\n",
       "      <td>-0.033618</td>\n",
       "      <td>0.0</td>\n",
       "    </tr>\n",
       "    <tr>\n",
       "      <th>4629</th>\n",
       "      <td>0.039925</td>\n",
       "      <td>0.0</td>\n",
       "    </tr>\n",
       "    <tr>\n",
       "      <th>4630</th>\n",
       "      <td>0.012186</td>\n",
       "      <td>0.0</td>\n",
       "    </tr>\n",
       "    <tr>\n",
       "      <th>4631</th>\n",
       "      <td>0.110887</td>\n",
       "      <td>0.0</td>\n",
       "    </tr>\n",
       "  </tbody>\n",
       "</table>\n",
       "<p>4632 rows × 2 columns</p>\n",
       "</div>"
      ],
      "text/plain": [
       "      Prediction_data  Actual_data\n",
       "0            0.037439          0.0\n",
       "1            0.002283          0.0\n",
       "2            0.085583          0.0\n",
       "3           -0.030680          0.0\n",
       "4            0.080455          0.0\n",
       "...               ...          ...\n",
       "4627        -0.017948          0.0\n",
       "4628        -0.033618          0.0\n",
       "4629         0.039925          0.0\n",
       "4630         0.012186          0.0\n",
       "4631         0.110887          0.0\n",
       "\n",
       "[4632 rows x 2 columns]"
      ]
     },
     "execution_count": 34,
     "metadata": {},
     "output_type": "execute_result"
    }
   ],
   "source": [
    "lr_pred"
   ]
  },
  {
   "cell_type": "markdown",
   "id": "2ebeb0ea",
   "metadata": {},
   "source": [
    "Using min- max scaler formula manually to get prediction range between 0 - 100"
   ]
  },
  {
   "cell_type": "code",
   "execution_count": 35,
   "id": "8fcf58df",
   "metadata": {},
   "outputs": [],
   "source": [
    "a= min(lr_pred['Prediction_data'])\n",
    "b= max(lr_pred['Prediction_data'])\n",
    "for i in range(0,len(lr_pred)):\n",
    "    lr_pred['Prediction_data'][i] = (lr_pred['Prediction_data'][i] - a) / (b-a)"
   ]
  },
  {
   "cell_type": "code",
   "execution_count": 36,
   "id": "ca006acb",
   "metadata": {},
   "outputs": [],
   "source": [
    "lr_pred['Prediction_data'] = lr_pred['Prediction_data']*100\n",
    "lr_pred['Actual_data'] =lr_pred['Actual_data']*100"
   ]
  },
  {
   "cell_type": "markdown",
   "id": "a67bf1f6",
   "metadata": {},
   "source": [
    "Limiting Prediction data value to a certain point so all the case above that are more likely to give 100 or WON cases."
   ]
  },
  {
   "cell_type": "code",
   "execution_count": 37,
   "id": "55b903c5",
   "metadata": {},
   "outputs": [],
   "source": [
    "lr_list = list()\n",
    "for i in range(0,len(lr_pred)):\n",
    "    if lr_pred['Prediction_data'][i] < 88:\n",
    "    \n",
    "        lr_list.append(0.00)\n",
    "    else:\n",
    "        lr_list.append(100.00)"
   ]
  },
  {
   "cell_type": "code",
   "execution_count": 38,
   "id": "5e1ea037",
   "metadata": {},
   "outputs": [],
   "source": [
    "lr_df = pd.DataFrame(lr_list)\n",
    "lr_pred['Pred_actual_form'] = lr_df"
   ]
  },
  {
   "cell_type": "markdown",
   "id": "c9c4d867",
   "metadata": {},
   "source": [
    "Columns:\n",
    "\n",
    "Prediction_data : Prediction of our model as Lead score(ranging between 0 - 100)\n",
    "\n",
    "Actual_data : The 'status' column values: \n",
    "                    WON as 100.00 and LOST as 0.00\n",
    "                    \n",
    "Pred_actual_form: The predicted data is transformed into actual data by categorizing values greater than 88 as WON cases."
   ]
  },
  {
   "cell_type": "code",
   "execution_count": 39,
   "id": "22a48c89",
   "metadata": {},
   "outputs": [
    {
     "data": {
      "text/html": [
       "<div>\n",
       "<style scoped>\n",
       "    .dataframe tbody tr th:only-of-type {\n",
       "        vertical-align: middle;\n",
       "    }\n",
       "\n",
       "    .dataframe tbody tr th {\n",
       "        vertical-align: top;\n",
       "    }\n",
       "\n",
       "    .dataframe thead th {\n",
       "        text-align: right;\n",
       "    }\n",
       "</style>\n",
       "<table border=\"1\" class=\"dataframe\">\n",
       "  <thead>\n",
       "    <tr style=\"text-align: right;\">\n",
       "      <th></th>\n",
       "      <th>Prediction_data</th>\n",
       "      <th>Actual_data</th>\n",
       "      <th>Pred_actual_form</th>\n",
       "    </tr>\n",
       "  </thead>\n",
       "  <tbody>\n",
       "    <tr>\n",
       "      <th>0</th>\n",
       "      <td>52.121322</td>\n",
       "      <td>0.0</td>\n",
       "      <td>0.0</td>\n",
       "    </tr>\n",
       "    <tr>\n",
       "      <th>1</th>\n",
       "      <td>46.611217</td>\n",
       "      <td>0.0</td>\n",
       "      <td>0.0</td>\n",
       "    </tr>\n",
       "    <tr>\n",
       "      <th>2</th>\n",
       "      <td>59.667065</td>\n",
       "      <td>0.0</td>\n",
       "      <td>0.0</td>\n",
       "    </tr>\n",
       "    <tr>\n",
       "      <th>3</th>\n",
       "      <td>41.444775</td>\n",
       "      <td>0.0</td>\n",
       "      <td>0.0</td>\n",
       "    </tr>\n",
       "    <tr>\n",
       "      <th>4</th>\n",
       "      <td>58.863335</td>\n",
       "      <td>0.0</td>\n",
       "      <td>0.0</td>\n",
       "    </tr>\n",
       "    <tr>\n",
       "      <th>...</th>\n",
       "      <td>...</td>\n",
       "      <td>...</td>\n",
       "      <td>...</td>\n",
       "    </tr>\n",
       "    <tr>\n",
       "      <th>4627</th>\n",
       "      <td>43.440301</td>\n",
       "      <td>0.0</td>\n",
       "      <td>0.0</td>\n",
       "    </tr>\n",
       "    <tr>\n",
       "      <th>4628</th>\n",
       "      <td>40.984210</td>\n",
       "      <td>0.0</td>\n",
       "      <td>0.0</td>\n",
       "    </tr>\n",
       "    <tr>\n",
       "      <th>4629</th>\n",
       "      <td>52.510886</td>\n",
       "      <td>0.0</td>\n",
       "      <td>0.0</td>\n",
       "    </tr>\n",
       "    <tr>\n",
       "      <th>4630</th>\n",
       "      <td>48.163270</td>\n",
       "      <td>0.0</td>\n",
       "      <td>0.0</td>\n",
       "    </tr>\n",
       "    <tr>\n",
       "      <th>4631</th>\n",
       "      <td>63.633181</td>\n",
       "      <td>0.0</td>\n",
       "      <td>0.0</td>\n",
       "    </tr>\n",
       "  </tbody>\n",
       "</table>\n",
       "<p>4632 rows × 3 columns</p>\n",
       "</div>"
      ],
      "text/plain": [
       "      Prediction_data  Actual_data  Pred_actual_form\n",
       "0           52.121322          0.0               0.0\n",
       "1           46.611217          0.0               0.0\n",
       "2           59.667065          0.0               0.0\n",
       "3           41.444775          0.0               0.0\n",
       "4           58.863335          0.0               0.0\n",
       "...               ...          ...               ...\n",
       "4627        43.440301          0.0               0.0\n",
       "4628        40.984210          0.0               0.0\n",
       "4629        52.510886          0.0               0.0\n",
       "4630        48.163270          0.0               0.0\n",
       "4631        63.633181          0.0               0.0\n",
       "\n",
       "[4632 rows x 3 columns]"
      ]
     },
     "execution_count": 39,
     "metadata": {},
     "output_type": "execute_result"
    }
   ],
   "source": [
    "lr_pred"
   ]
  },
  {
   "cell_type": "code",
   "execution_count": 40,
   "id": "c58ee4e4",
   "metadata": {},
   "outputs": [
    {
     "data": {
      "image/png": "[encoded data removed]",
      "text/plain": [
       "<Figure size 3000x700 with 1 Axes>"
      ]
     },
     "metadata": {},
     "output_type": "display_data"
    }
   ],
   "source": [
    "plt.figure(figsize=(30,7))\n",
    "lr_pred.Prediction_data.plot(kind = 'kde')\n",
    "plt.show()"
   ]
  },
  {
   "cell_type": "code",
   "execution_count": 41,
   "id": "4c8470de",
   "metadata": {},
   "outputs": [
    {
     "data": {
      "image/png": "[encoded data removed]",
      "text/plain": [
       "<Figure size 3000x700 with 1 Axes>"
      ]
     },
     "metadata": {},
     "output_type": "display_data"
    }
   ],
   "source": [
    "plt.figure(figsize=(30,7))\n",
    "lr_pred.Actual_data.plot(kind ='kde')\n",
    "plt.show()"
   ]
  },
  {
   "cell_type": "code",
   "execution_count": 42,
   "id": "3bc0b3a6",
   "metadata": {},
   "outputs": [
    {
     "data": {
      "image/png": "[encoded data removed]",
      "text/plain": [
       "<Figure size 3000x700 with 1 Axes>"
      ]
     },
     "metadata": {},
     "output_type": "display_data"
    }
   ],
   "source": [
    "plt.figure(figsize=(30,7))\n",
    "lr_pred.Pred_actual_form.plot(kind ='kde')\n",
    "plt.show()"
   ]
  },
  {
   "cell_type": "markdown",
   "id": "5e9b31dd",
   "metadata": {},
   "source": [
    "Evaluate the performance using metrics such as accuracy, precision, recall and F1-score.\n"
   ]
  },
  {
   "cell_type": "code",
   "execution_count": 43,
   "id": "e83c4909",
   "metadata": {},
   "outputs": [],
   "source": [
    "from sklearn.metrics import *"
   ]
  },
  {
   "cell_type": "code",
   "execution_count": 44,
   "id": "bf6870e0",
   "metadata": {},
   "outputs": [
    {
     "name": "stdout",
     "output_type": "stream",
     "text": [
      "Confusion Matrix:\n",
      " [[4236   64]\n",
      " [  50  282]]\n",
      "Accuracy Score: 0.9753886010362695\n",
      "Precision Score: 0.9883341110592627\n",
      "Recall Score: 0.9851162790697674\n",
      "F1 Score: 0.986722571628232\n"
     ]
    }
   ],
   "source": [
    "cm = confusion_matrix(lr_pred['Actual_data'],lr_pred['Pred_actual_form'])\n",
    "acs = accuracy_score(lr_pred['Actual_data'],lr_pred['Pred_actual_form'])\n",
    "ps = precision_score(lr_pred['Actual_data'],lr_pred['Pred_actual_form'],pos_label=0)\n",
    "rs =recall_score(lr_pred['Actual_data'],lr_pred['Pred_actual_form'],pos_label=0)\n",
    "fs = f1_score(lr_pred['Actual_data'],lr_pred['Pred_actual_form'],pos_label=0)\n",
    "print(f'Confusion Matrix:\\n {cm}')\n",
    "print(f'Accuracy Score: {acs}')\n",
    "print(f'Precision Score: {ps}')\n",
    "print(f'Recall Score: {rs}')\n",
    "print(f'F1 Score: {fs}')"
   ]
  },
  {
   "cell_type": "markdown",
   "id": "037ed331",
   "metadata": {},
   "source": [
    "I have created a model to the best of my knowledge and practice. Kindly provide me with feedback on any remarks or suggestions for improvement.\n",
    "\n",
    "Also, I have attempted to implement other models such as Lasso, Ridge, and DecisionTreeRegressor, but I have found that LinearRegression model provides the highest accuracy.\""
   ]
  }
 ],
 "metadata": {
  "kernelspec": {
   "display_name": "Python 3 (ipykernel)",
   "language": "python",
   "name": "python3"
  },
  "language_info": {
   "codemirror_mode": {
    "name": "ipython",
    "version": 3
   },
   "file_extension": ".py",
   "mimetype": "text/x-python",
   "name": "python",
   "nbconvert_exporter": "python",
   "pygments_lexer": "ipython3",
   "version": "3.8.16"
  }
 },
 "nbformat": 4,
 "nbformat_minor": 5
}
